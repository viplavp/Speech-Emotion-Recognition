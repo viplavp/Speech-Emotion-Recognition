{
 "cells": [
  {
   "cell_type": "code",
   "execution_count": 2,
   "metadata": {},
   "outputs": [],
   "source": [
    "def extract_feature(X,sampling_rate,chroma,mel,mfcc):\n",
    "    if  chroma:\n",
    "        stft=np.abs(librosa.stft(X))\n",
    "    result=np.array([])\n",
    "    if  mfcc:\n",
    "        mfcc=np.mean(librosa.feature.mfcc(X,sr=sampling_rate,n_mfcc=40).T,axis=0)\n",
    "        result=np.hstack((result,mfcc))\n",
    "    if chroma:\n",
    "        chroma=np.mean(librosa.feature.chroma_stft(S=stft,sr=sampling_rate).T,axis=0)\n",
    "        result=np.hstack((result,chroma))\n",
    "    if mel:\n",
    "        mel=np.mean(librosa.feature.melspectrogram(X,sr=sampling_rate).T,axis=0)\n",
    "        result=np.hstack((result,mel))\n",
    "    return result"
   ]
  },
  {
   "cell_type": "code",
   "execution_count": 3,
   "metadata": {
    "id": "wTCRhhCfQgfL"
   },
   "outputs": [],
   "source": [
    "import warnings\n",
    "warnings.filterwarnings('ignore')"
   ]
  },
  {
   "cell_type": "code",
   "execution_count": 4,
   "metadata": {
    "colab": {
     "base_uri": "https://localhost:8080/"
    },
    "id": "EHJSvddrSC15",
    "outputId": "2bca5b2a-a78a-4c40-f2fe-b26b23db2196"
   },
   "outputs": [
    {
     "ename": "ModuleNotFoundError",
     "evalue": "No module named 'google'",
     "output_type": "error",
     "traceback": [
      "\u001b[1;31m---------------------------------------------------------------------------\u001b[0m",
      "\u001b[1;31mModuleNotFoundError\u001b[0m                       Traceback (most recent call last)",
      "\u001b[1;32m<ipython-input-4-91874b305a32>\u001b[0m in \u001b[0;36m<module>\u001b[1;34m\u001b[0m\n\u001b[1;32m----> 1\u001b[1;33m \u001b[1;32mfrom\u001b[0m \u001b[0mgoogle\u001b[0m\u001b[1;33m.\u001b[0m\u001b[0mcolab\u001b[0m \u001b[1;32mimport\u001b[0m \u001b[0mdrive\u001b[0m\u001b[1;33m\u001b[0m\u001b[1;33m\u001b[0m\u001b[0m\n\u001b[0m\u001b[0;32m      2\u001b[0m \u001b[0mdrive\u001b[0m\u001b[1;33m.\u001b[0m\u001b[0mmount\u001b[0m\u001b[1;33m(\u001b[0m\u001b[1;34m'/content/drive/'\u001b[0m\u001b[1;33m)\u001b[0m\u001b[1;33m\u001b[0m\u001b[1;33m\u001b[0m\u001b[0m\n",
      "\u001b[1;31mModuleNotFoundError\u001b[0m: No module named 'google'"
     ]
    }
   ],
   "source": [
    "from google.colab import drive\n",
    "drive.mount('/content/drive/')"
   ]
  },
  {
   "cell_type": "markdown",
   "metadata": {
    "id": "2ITIVgJmn_uk"
   },
   "source": [
    "load audio file\n"
   ]
  },
  {
   "cell_type": "code",
   "execution_count": null,
   "metadata": {
    "id": "9Tp8LEtERLaN"
   },
   "outputs": [],
   "source": [
    "import librosa\n",
    "audio_path = '/content/drive/MyDrive/audio dataset/Actor_01/03-01-01-01-01-01-01.wav'\n",
    "x,sr = librosa.load(audio_path)"
   ]
  },
  {
   "cell_type": "markdown",
   "metadata": {
    "id": "hP-qN3l-n-kV"
   },
   "source": [
    "listen audio file"
   ]
  },
  {
   "cell_type": "code",
   "execution_count": null,
   "metadata": {
    "colab": {
     "base_uri": "https://localhost:8080/",
     "height": 75
    },
    "id": "s-jpB-nUhzz1",
    "outputId": "d99bcada-6519-4c59-de70-8935fc3f23ee"
   },
   "outputs": [],
   "source": [
    "import IPython.display as ipd\n",
    "ipd.Audio(audio_path)"
   ]
  },
  {
   "cell_type": "markdown",
   "metadata": {
    "id": "rBiwCy2uoIa8"
   },
   "source": [
    "plot the wave form"
   ]
  },
  {
   "cell_type": "code",
   "execution_count": null,
   "metadata": {
    "colab": {
     "base_uri": "https://localhost:8080/",
     "height": 296
    },
    "id": "cnlM2P4BiK6k",
    "outputId": "9c5d3c9c-2538-4691-b3c4-b9f812b45970"
   },
   "outputs": [],
   "source": [
    "%matplotlib inline\n",
    "import sklearn\n",
    "import matplotlib.pyplot as plt\n",
    "import librosa.display\n",
    "plt.figure()\n",
    "librosa.display.waveplot(x,sr)"
   ]
  },
  {
   "cell_type": "markdown",
   "metadata": {
    "id": "CnYln3lMoMU2"
   },
   "source": [
    "plot the spectograph"
   ]
  },
  {
   "cell_type": "code",
   "execution_count": null,
   "metadata": {
    "colab": {
     "base_uri": "https://localhost:8080/",
     "height": 296
    },
    "id": "hcZ6wAiVl42d",
    "outputId": "8078d5c7-400f-439c-e02a-0c9dc298137d"
   },
   "outputs": [],
   "source": [
    "X = librosa.stft(x)\n",
    "Xdb = librosa.amplitude_to_db(abs(X))\n",
    "plt.figure()\n",
    "librosa.display.specshow(Xdb, sr=sr, x_axis='time', y_axis='hz')\n",
    "plt.colorbar()"
   ]
  },
  {
   "cell_type": "markdown",
   "metadata": {
    "id": "wwfrWxt8oPHp"
   },
   "source": [
    "feature extraction(MFCC)\n"
   ]
  },
  {
   "cell_type": "code",
   "execution_count": null,
   "metadata": {
    "colab": {
     "base_uri": "https://localhost:8080/",
     "height": 313
    },
    "id": "PawBoJY4Ii_Q",
    "outputId": "068b2755-28e1-4ddb-a9a5-91cf7da7c4c8"
   },
   "outputs": [],
   "source": [
    "mfccs = librosa.feature.mfcc(x, sr=sr)\n",
    "print(mfccs.shape)\n",
    "\n",
    "librosa.display.specshow(mfccs, sr=sr, x_axis='time')"
   ]
  },
  {
   "cell_type": "code",
   "execution_count": null,
   "metadata": {
    "id": "aGBz6IV-jgom"
   },
   "outputs": [],
   "source": [
    "import os\n",
    "import numpy as np\n",
    "path = '/content/drive/My Drive/audio dataset'\n",
    "a = []\n",
    "for subdir, dirs, files in os.walk(path):\n",
    "    for file in files:\n",
    "        try:\n",
    "            x,sr = librosa.load(os.path.join(subdir,file),res_type='kaiser_fast')\n",
    "            mfccs = np.mean(librosa.feature.mfcc(y=x,sr=sr,n_mfcc=40).T,axis = 0)\n",
    "            file = file[6:8]\n",
    "            arr = mfccs,file\n",
    "            a.append(arr)\n",
    "        except ValueError:\n",
    "            continue"
   ]
  },
  {
   "cell_type": "code",
   "execution_count": null,
   "metadata": {
    "colab": {
     "base_uri": "https://localhost:8080/"
    },
    "id": "h0v-mMRkoI2x",
    "outputId": "daf739d7-03f4-4fb9-8f98-383d44b1201f"
   },
   "outputs": [],
   "source": [
    "from sklearn.model_selection import train_test_split\n",
    "import matplotlib.pyplot as plt\n",
    "x, y = zip(*a)\n",
    "x = np.asarray(x)\n",
    "y = np.asarray(y)\n",
    "y=y.astype(np.float32)\n",
    "y-=1\n",
    "x_train, x_test, y_train,y_test = train_test_split(x,y,test_size=0.25)\n",
    "x_test.shape, y_test.shape"
   ]
  },
  {
   "cell_type": "code",
   "execution_count": null,
   "metadata": {},
   "outputs": [],
   "source": [
    "def plot_history(history):\n",
    "    plt.plot(history.history['accuracy'], label='accuracy')\n",
    "    plt.plot(history.history['val_accuracy'], label = 'val_accuracy')\n",
    "    plt.xlabel('Epoch')\n",
    "    plt.ylabel('Accuracy')\n",
    "    plt.legend(loc='lower right')\n",
    "  # function to plot accuracy vs epoch"
   ]
  },
  {
   "cell_type": "code",
   "execution_count": null,
   "metadata": {},
   "outputs": [],
   "source": [
    "import tensorflow as tf\n",
    "model=tf.keras.models.Sequential([\n",
    "   tf.keras.layers.Flatten(),                                                                \n",
    "   tf.keras.layers.Dense(7200,activation='sigmoid',input_shape=(40,1)),                                                                \n",
    "   tf.keras.layers.Dense(1024,activation='sigmoid'),\n",
    "   tf.keras.layers.Dropout(0.2),\n",
    "   tf.keras.layers.Dense(256,activation='sigmoid'),\n",
    "   tf.keras.layers.Dropout(0.45),                          \n",
    "   tf.keras.layers.Dense(8,activation='softmax'),\n",
    "   ]) \n",
    "\n",
    "model.compile(optimizer='rmsprop',loss = 'sparse_categorical_crossentropy', metrics=['accuracy'])\n",
    "history = model.fit(x_train, y_train, epochs=100,\n",
    "                   validation_data=(x_test, y_test))\n",
    "\n",
    "plot_history(history)\n",
    "model.summary()\n",
    " \n"
   ]
  },
  {
   "cell_type": "code",
   "execution_count": null,
   "metadata": {},
   "outputs": [],
   "source": [
    "from sklearn.metrics import confusion_matrix, ConfusionMatrixDisplay\n",
    "import matplotlib.pyplot as plt\n",
    "y_pred=model.predict(x_test)\n",
    "y_pred=np.argmax(y_pred,axis=1)\n",
    "labels=('neutral','calm','happy','sad','angry','fear','disgust','suprise')\n",
    "cm=confusion_matrix(y_test,y_pred,normalize='true')\n",
    "fig, axis = plt.subplots(figsize=(10, 10))\n",
    "disp = ConfusionMatrixDisplay(confusion_matrix=cm,display_labels=labels)\n",
    "disp.plot(ax=axis)"
   ]
  },
  {
   "cell_type": "code",
   "execution_count": null,
   "metadata": {},
   "outputs": [],
   "source": [
    "model_cnn=tf.keras.models.Sequential([\n",
    "  tf.keras.layers.Conv1D(128,(3),activation='relu',input_shape=(40,1)),                                  \n",
    "  tf.keras.layers.MaxPooling1D(1),\n",
    "  tf.keras.layers.Dropout(0.2),\n",
    "  tf.keras.layers.Conv1D(64,(3),activation='relu'),\n",
    "  tf.keras.layers.MaxPooling1D(2),\n",
    "  tf.keras.layers.Dropout(0.2),\n",
    "  tf.keras.layers.Flatten(),\n",
    "  tf.keras.layers.Dense(256,activation='relu',kernel_regularizer=tf.keras.regularizers.L2(2e-4)),\n",
    "  tf.keras.layers.Dropout(0.1),\n",
    "  tf.keras.layers.Dense(128,activation='relu',kernel_regularizer=tf.keras.regularizers.L2(3e-4)),\n",
    "  tf.keras.layers.Dense(8,activation='softmax')\n",
    "  ])\n",
    "model_cnn.compile(optimizer='rmsprop',loss = 'sparse_categorical_crossentropy', metrics=['accuracy'])\n",
    "# -------------------------------\n",
    "print(x_train.shape)\n",
    "history = model_cnn.fit(x_train, y_train, epochs=300,\n",
    "                    validation_data=(x_test, y_test))\n",
    "\n",
    "plot_history(history)\n",
    "model_cnn.summary()"
   ]
  }
 ],
 "metadata": {
  "colab": {
   "authorship_tag": "ABX9TyMtU/PtF7IUprlXEPe7/HcQ",
   "name": "Feature Extraction.ipynb",
   "provenance": []
  },
  "kernelspec": {
   "display_name": "Python 3",
   "language": "python",
   "name": "python3"
  },
  "language_info": {
   "codemirror_mode": {
    "name": "ipython",
    "version": 3
   },
   "file_extension": ".py",
   "mimetype": "text/x-python",
   "name": "python",
   "nbconvert_exporter": "python",
   "pygments_lexer": "ipython3",
   "version": "3.8.8"
  }
 },
 "nbformat": 4,
 "nbformat_minor": 1
}
